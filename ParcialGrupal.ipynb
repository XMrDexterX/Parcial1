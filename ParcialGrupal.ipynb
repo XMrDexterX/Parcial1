{
 "cells": [
  {
   "cell_type": "markdown",
   "id": "31a05657",
   "metadata": {},
   "source": [
    "# PARCIAL GRUPAL 1\n",
    "\n",
    "**Integrantes:** Ana Diaz, Richard Gonzalez, Jhon Villareal\n",
    "# 🏆 PARTE I: DESARROLLO (60 PUNTOS)\n",
    "\n",
    "---\n",
    "\n",
    "## 📝 Instrucciones Generales\n",
    "\n",
    "Como grupo, hemos seleccionado y explorado una API para aplicar los conceptos vistos en clase.\n",
    "\n",
    "| Pregunta | Respuesta |\n",
    "| :--- | :--- |\n",
    "| **¿Qué API seleccionaron?** | Riot Game API |\n",
    "| **¿De qué trata? (Dominio/Finalidad)** | Permite obtener el historial detallado de cada jugador, enfocándose en estadísticas con campeones específicos del juego *League of Legends* (LoL). |\n",
    "| **¿Por qué la eligieron?** | Interés en el manejo de grandes volúmenes de datos y la popularidad del juego, lo que garantiza una fuente rica y relevante de información. |\n",
    "\n",
    "Aplicaremos el **ciclo de vida de un proyecto de ciencia de datos** hasta llegar a los primeros **Análisis Exploratorios de Datos (EDA)**.\n",
    "\n",
    "---\n",
    "\n"
   ]
  },
  {
   "cell_type": "markdown",
   "id": "3f295928",
   "metadata": {},
   "source": [
    "## 🛠️ Etapas del Proyecto\n",
    "\n",
    "### 1. Definición del Problema y Objetivos (10 pts.)\n",
    "\n",
    "Planteamiento del problema:\n",
    "> Se busca estudiar la **preferencia de los jugadores** al momento de elegir un campeón y encontrar posibles **patrones de juego** o *metas* a través de estos datos.\n",
    "\n",
    "**Conexión con la clase:**\n",
    "Esto se conecta con el **manejo y resumen de los datos** (media, moda, etc.) para derivar estadísticas descriptivas y patrones, tal como se practicó en el módulo.\n",
    "\n",
    "---\n",
    "\n"
   ]
  },
  {
   "cell_type": "markdown",
   "id": "d550f12c",
   "metadata": {},
   "source": [
    "### 2. Adquisición de Datos (10 pts.)\n",
    "\n",
    "Aplicaremos la programación necesaria para extraer los datos mediante la API:\n",
    "\n",
    "1.  Conexión con la API (usando la librería `requests` en Python).\n",
    "2.  Extracción y conversión de datos a un formato legible (ejemplo: **DataFrame de `pandas`**).\n",
    "3.  Guardado de una muestra local del *dataset* en formato **CSV/JSON**.\n",
    "\n",
    "---\n",
    "\n"
   ]
  },
  {
   "cell_type": "markdown",
   "id": "5493680f",
   "metadata": {},
   "source": [
    "### 3. Procesamiento y Limpieza de Datos (15 pts.)\n",
    "\n",
    "Tareas de limpieza y pre-procesamiento:\n",
    "\n",
    "* Visualizar estructura: *forma*, *columnas* y *tipos de datos*.\n",
    "* Normalizar nombres de variables (si aplica).\n",
    "* Manejo de valores faltantes: **eliminar**, **rellenar** (imputar) o **justificar** su presencia.\n",
    "* Convertir tipos de datos (fechas, números, etc.).\n",
    "* Seleccionar variables útiles y descartar ruido.\n",
    "\n",
    "---\n",
    "\n"
   ]
  },
  {
   "cell_type": "markdown",
   "id": "9d662ac4",
   "metadata": {},
   "source": [
    "### 4. Exploración Inicial (EDA Básica) (10 pts.)\n",
    "\n",
    "Realizaremos un resumen estadístico del *dataset*:\n",
    "\n",
    "* Descripción detallada de las variables obtenidas.\n",
    "* Cálculo de **estadísticas descriptivas básicas** (media, mediana, mínimo, máximo, frecuencias).\n",
    "* Identificación de frecuencias en variables **categóricas**.\n",
    "* Detección de *outliers* o inconsistencias en los datos.\n",
    "\n",
    "---\n",
    "\n"
   ]
  },
  {
   "cell_type": "markdown",
   "id": "54b4c721",
   "metadata": {},
   "source": [
    "### 5. Análisis Básico con Visualizaciones (10 pts.)\n",
    "\n",
    "Elaboraremos al menos **4 o 5 gráficos claros** que respondan a preguntas iniciales.\n",
    "\n",
    "* **Variables numéricas:** *Histogramas*, *boxplots* o *dispersión*.\n",
    "* **Variables categóricas:** *Barras* o *frecuencias*.\n",
    "* Otros gráficos presentados en clase.\n",
    "\n",
    "**Interpretación:** Incluiremos una breve interpretación (**2-3 frases**) de cada gráfico, indicando qué **patrones o problemas** sugieren.\n",
    "\n",
    "---\n",
    "\n"
   ]
  },
  {
   "cell_type": "markdown",
   "id": "f7224e22",
   "metadata": {},
   "source": [
    "### 6. Conclusiones (5 pts.)\n",
    "\n",
    "Elaboraremos una serie de **conclusiones concisas** con respecto a los hallazgos obtenidos a través del Análisis Exploratorio de Datos (EDA)."
   ]
  }
 ],
 "metadata": {
  "language_info": {
   "name": "python"
  }
 },
 "nbformat": 4,
 "nbformat_minor": 5
}
