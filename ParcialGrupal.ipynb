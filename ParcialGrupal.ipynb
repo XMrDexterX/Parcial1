{
 "cells": [
  {
   "cell_type": "markdown",
   "id": "b3293119",
   "metadata": {},
   "source": [
    "### Parte I: Desarrollo <span style=\"color:red;\"> (60 Puntos) </span>"
   ]
  },
  {
   "cell_type": "markdown",
   "id": "31a05657",
   "metadata": {},
   "source": [
    "# PARCIAL GRUPAL \n",
    "## Integrantes:\n",
    "*Ana Diaz*, *Jhon Villareal*, *Richard González*\n",
    "#### *Instrucciones generales* "
   ]
  }
 ],
 "metadata": {
  "language_info": {
   "name": "python"
  }
 },
 "nbformat": 4,
 "nbformat_minor": 5
}
