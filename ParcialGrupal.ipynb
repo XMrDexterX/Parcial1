{
 "cells": [
  {
   "cell_type": "markdown",
   "id": "31a05657",
   "metadata": {},
   "source": [
    "# PARCIAL GRUPAL 1\n",
    "\n",
    "**Integrantes:** Ana Diaz, Richard Gonzalez, Jhon Villareal\n",
    "#  PARTE I: DESARROLLO (60 PUNTOS)\n",
    "\n",
    "---\n",
    "\n",
    "##  Instrucciones Generales\n",
    "\n",
    "Como grupo, hemos seleccionado y explorado una API para aplicar los conceptos vistos en clase.\n",
    "\n",
    "| Pregunta | Respuesta |\n",
    "| :--- | :--- |\n",
    "| **¿Qué API seleccionaron?** | Riot Game API |\n",
    "| **¿De qué trata? (Dominio/Finalidad)** | Permite obtener el historial detallado de cada jugador, enfocándose en estadísticas con campeones específicos del juego *League of Legends* (LoL). |\n",
    "| **¿Por qué la eligieron?** | Interés en el manejo de grandes volúmenes de datos y la popularidad del juego, lo que garantiza una fuente rica y relevante de información. |\n",
    "\n",
    "Aplicaremos el **ciclo de vida de un proyecto de ciencia de datos** hasta llegar a los primeros **Análisis Exploratorios de Datos (EDA)**.\n",
    "\n",
    "---\n",
    "\n"
   ]
  },
  {
   "cell_type": "markdown",
   "id": "b47ca25d",
   "metadata": {},
   "source": [
    "## 1. Definición del Problema y Objetivos\n",
    "\n",
    "**Problema:**  \n",
    "Los jugadores y analistas de *League of Legends* necesitan comprender mejor las variables que influyen en la victoria o derrota de una partida (por ejemplo: el campeón elegido, la cantidad de oro obtenido o el nivel de experiencia).\n",
    "\n",
    "**Objetivo general:**  \n",
    "Analizar datos reales del *Riot Games API* para identificar patrones de desempeño y factores clave asociados con el éxito en las partidas.\n",
    "\n",
    "**Objetivos específicos:**\n",
    "1. Conectarse correctamente con la API de Riot Games y obtener datos reales de partidas.\n",
    "2. Limpiar y transformar la información recibida.\n",
    "3. Realizar análisis exploratorios y visualizaciones estadísticas de los resultados.\n"
   ]
  },
  {
   "cell_type": "markdown",
   "id": "777a0724",
   "metadata": {},
   "source": [
    "##  2. Adquisición de Datos\n",
    "\n",
    "En esta sección se conecta la API, se obtiene información básica de jugadores y partidas, y se guarda una muestra de datos para análisis.\n"
   ]
  },
  {
   "cell_type": "markdown",
   "id": "7dd8f702",
   "metadata": {},
   "source": [
    "Celda de código: configuración e imports"
   ]
  },
  {
   "cell_type": "code",
   "execution_count": 11,
   "id": "1cea109f",
   "metadata": {},
   "outputs": [],
   "source": [
    "import os, time, json, urllib.parse, requests\n",
    "import pandas as pd\n",
    "import matplotlib.pyplot as plt\n",
    "\n",
    "API_KEY = 'RGAPI-d78662bf-afa9-4e15-8dff-dbf67b6eef23'\n",
    "HEADERS = {'X-Riot-Token': API_KEY}\n",
    "\n",
    "if not API_KEY:\n",
    "    print(\"Variable de entorno RIOT_API_KEY no definida\")"
   ]
  },
  {
   "cell_type": "markdown",
   "id": "f256872f",
   "metadata": {},
   "source": [
    "Celda de código: obtener informacion de un juegador"
   ]
  },
  {
   "cell_type": "code",
   "execution_count": null,
   "id": "c86ed000",
   "metadata": {},
   "outputs": [
    {
     "data": {
      "text/plain": [
       "{'puuid': 'a9ASjDwQ9Zs3MD9k5W67JpAOI_YANQBB9N1J4OpQ7YCi0hMTDYJC9WX3-omUrA5t5uwm0urkPbOQEw',\n",
       " 'profileIconId': 6,\n",
       " 'revisionDate': 1759858376024,\n",
       " 'summonerLevel': 863}"
      ]
     },
     "execution_count": 16,
     "metadata": {},
     "output_type": "execute_result"
    }
   ],
   "source": [
    "def get_summoner_by_riot_id(game_name, tag_line, routing_region='asia', platform='kr'):\n",
    "    game_name_enc = urllib.parse.quote(game_name)\n",
    "    tag_line_enc = urllib.parse.quote(tag_line)\n",
    "    url = f'https://{routing_region}.api.riotgames.com/riot/account/v1/accounts/by-riot-id/{game_name_enc}/{tag_line_enc}'\n",
    "    r = requests.get(url, headers=HEADERS)\n",
    "    r.raise_for_status()\n",
    "    account_data = r.json()\n",
    "    puuid = account_data['puuid']\n",
    "    \n",
    "    url2 = f'https://{platform}.api.riotgames.com/lol/summoner/v4/summoners/by-puuid/{puuid}'\n",
    "    r2 = requests.get(url2, headers=HEADERS)\n",
    "    r2.raise_for_status()\n",
    "    return r2.json()\n",
    "\n",
    "summoner = get_summoner_by_riot_id(\"Hide on bush\", \"KR1\", routing_region='asia', platform='kr')\n",
    "summoner"
   ]
  },
  {
   "cell_type": "markdown",
   "id": "233e9a77",
   "metadata": {},
   "source": [
    "El código anterior obtiene la información básica de un jugador a partir de su nombre.  \n",
    "Riot API devuelve identificadores como `puuid` y `id`, necesarios para buscar su historial de partidas.\n"
   ]
  },
  {
   "cell_type": "code",
   "execution_count": 21,
   "id": "a4a60267",
   "metadata": {},
   "outputs": [
    {
     "data": {
      "text/plain": [
       "['KR_7856448015',\n",
       " 'KR_7856357576',\n",
       " 'KR_7856281659',\n",
       " 'KR_7856196441',\n",
       " 'KR_7855895357',\n",
       " 'KR_7855800422',\n",
       " 'KR_7854217940',\n",
       " 'KR_7854155054',\n",
       " 'KR_7854091325',\n",
       " 'KR_7853949039']"
      ]
     },
     "execution_count": 21,
     "metadata": {},
     "output_type": "execute_result"
    }
   ],
   "source": [
    "def get_summoner_by_riot_id(game_name, tag_line, routing_region='asia', platform='kr'):\n",
    "    game_name_enc = urllib.parse.quote(game_name)\n",
    "    tag_line_enc = urllib.parse.quote(tag_line)\n",
    "    url = f'https://{routing_region}.api.riotgames.com/riot/account/v1/accounts/by-riot-id/{game_name_enc}/{tag_line_enc}'\n",
    "    r = requests.get(url, headers=HEADERS)\n",
    "    r.raise_for_status()\n",
    "    account_data = r.json()\n",
    "    puuid = account_data['puuid']\n",
    "    \n",
    "    url2 = f'https://{platform}.api.riotgames.com/lol/summoner/v4/summoners/by-puuid/{puuid}'\n",
    "    r2 = requests.get(url2, headers=HEADERS)\n",
    "    r2.raise_for_status()\n",
    "    return r2.json()\n",
    "\n",
    "summoner = get_summoner_by_riot_id(\"Hide on bush\", \"KR1\", routing_region='asia', platform='kr')\n",
    "summoner\n",
    "\n",
    "def get_match_ids(puuid, count=20, region='asia'):\n",
    "    url = f'https://{region}.api.riotgames.com/lol/match/v5/matches/by-puuid/{puuid}/ids?count={count}'\n",
    "    r = requests.get(url, headers=HEADERS)\n",
    "    r.raise_for_status()\n",
    "    return r.json()\n",
    "\n",
    "match_ids = get_match_ids(summoner['puuid'], count=10, region='asia')\n",
    "match_ids"
   ]
  },
  {
   "cell_type": "markdown",
   "id": "600e18af",
   "metadata": {},
   "source": [
    "### Recolección de partidas y guardado de muestra"
   ]
  },
  {
   "cell_type": "markdown",
   "id": "de124ac3",
   "metadata": {},
   "source": [
    "Celda de código (descargar detalles)"
   ]
  },
  {
   "cell_type": "code",
   "execution_count": 23,
   "id": "e0cb1b80",
   "metadata": {},
   "outputs": [],
   "source": [
    "def get_match_details(match_id, region='asia'):\n",
    "    url = f'https://{region}.api.riotgames.com/lol/match/v5/matches/{match_id}'\n",
    "    r = requests.get(url, headers=HEADERS)\n",
    "    r.raise_for_status()\n",
    "    return r.json()\n",
    "\n",
    "matches = [get_match_details(mid, region='asia') for mid in match_ids]\n",
    "\n",
    "with open('matches_sample.json', 'w') as f:\n",
    "    json.dump(matches, f, indent=2)"
   ]
  },
  {
   "cell_type": "markdown",
   "id": "7a6a0203",
   "metadata": {},
   "source": [
    "##  3. Procesamiento y Limpieza de Datos\n",
    "\n",
    "Se seleccionan las variables más relevantes de cada participante y se transforma la información en un formato tabular.\n"
   ]
  },
  {
   "cell_type": "code",
   "execution_count": 24,
   "id": "0ffa21bd",
   "metadata": {},
   "outputs": [
    {
     "data": {
      "text/html": [
       "<div>\n",
       "<style scoped>\n",
       "    .dataframe tbody tr th:only-of-type {\n",
       "        vertical-align: middle;\n",
       "    }\n",
       "\n",
       "    .dataframe tbody tr th {\n",
       "        vertical-align: top;\n",
       "    }\n",
       "\n",
       "    .dataframe thead th {\n",
       "        text-align: right;\n",
       "    }\n",
       "</style>\n",
       "<table border=\"1\" class=\"dataframe\">\n",
       "  <thead>\n",
       "    <tr style=\"text-align: right;\">\n",
       "      <th></th>\n",
       "      <th>matchId</th>\n",
       "      <th>summonerName</th>\n",
       "      <th>championName</th>\n",
       "      <th>kills</th>\n",
       "      <th>deaths</th>\n",
       "      <th>assists</th>\n",
       "      <th>win</th>\n",
       "      <th>goldEarned</th>\n",
       "      <th>damageDealtToChampions</th>\n",
       "    </tr>\n",
       "  </thead>\n",
       "  <tbody>\n",
       "    <tr>\n",
       "      <th>0</th>\n",
       "      <td>KR_7856448015</td>\n",
       "      <td></td>\n",
       "      <td>Azir</td>\n",
       "      <td>5</td>\n",
       "      <td>1</td>\n",
       "      <td>16</td>\n",
       "      <td>True</td>\n",
       "      <td>14645</td>\n",
       "      <td>37487</td>\n",
       "    </tr>\n",
       "    <tr>\n",
       "      <th>1</th>\n",
       "      <td>KR_7856448015</td>\n",
       "      <td></td>\n",
       "      <td>Qiyana</td>\n",
       "      <td>11</td>\n",
       "      <td>2</td>\n",
       "      <td>5</td>\n",
       "      <td>True</td>\n",
       "      <td>14620</td>\n",
       "      <td>24428</td>\n",
       "    </tr>\n",
       "    <tr>\n",
       "      <th>2</th>\n",
       "      <td>KR_7856448015</td>\n",
       "      <td></td>\n",
       "      <td>Syndra</td>\n",
       "      <td>6</td>\n",
       "      <td>6</td>\n",
       "      <td>7</td>\n",
       "      <td>True</td>\n",
       "      <td>11576</td>\n",
       "      <td>26528</td>\n",
       "    </tr>\n",
       "    <tr>\n",
       "      <th>3</th>\n",
       "      <td>KR_7856448015</td>\n",
       "      <td></td>\n",
       "      <td>Xayah</td>\n",
       "      <td>13</td>\n",
       "      <td>5</td>\n",
       "      <td>10</td>\n",
       "      <td>True</td>\n",
       "      <td>15041</td>\n",
       "      <td>33547</td>\n",
       "    </tr>\n",
       "    <tr>\n",
       "      <th>4</th>\n",
       "      <td>KR_7856448015</td>\n",
       "      <td></td>\n",
       "      <td>Rakan</td>\n",
       "      <td>0</td>\n",
       "      <td>3</td>\n",
       "      <td>24</td>\n",
       "      <td>True</td>\n",
       "      <td>8680</td>\n",
       "      <td>7455</td>\n",
       "    </tr>\n",
       "  </tbody>\n",
       "</table>\n",
       "</div>"
      ],
      "text/plain": [
       "         matchId summonerName championName  kills  deaths  assists   win  \\\n",
       "0  KR_7856448015                      Azir      5       1       16  True   \n",
       "1  KR_7856448015                    Qiyana     11       2        5  True   \n",
       "2  KR_7856448015                    Syndra      6       6        7  True   \n",
       "3  KR_7856448015                     Xayah     13       5       10  True   \n",
       "4  KR_7856448015                     Rakan      0       3       24  True   \n",
       "\n",
       "   goldEarned  damageDealtToChampions  \n",
       "0       14645                   37487  \n",
       "1       14620                   24428  \n",
       "2       11576                   26528  \n",
       "3       15041                   33547  \n",
       "4        8680                    7455  "
      ]
     },
     "execution_count": 24,
     "metadata": {},
     "output_type": "execute_result"
    }
   ],
   "source": [
    "records = []\n",
    "for match in matches:\n",
    "    info = match['info']\n",
    "    for p in info[\"participants\"]:\n",
    "        records.append({\n",
    "            \"matchId\": match['metadata']['matchId'],\n",
    "            \"summonerName\": p['summonerName'],\n",
    "            \"championName\": p['championName'],\n",
    "            \"kills\": p['kills'],\n",
    "            \"deaths\": p['deaths'],\n",
    "            \"assists\": p['assists'],\n",
    "            \"win\": p['win'],\n",
    "            \"goldEarned\": p['goldEarned'],\n",
    "            \"damageDealtToChampions\": p['totalDamageDealtToChampions'],\n",
    "        })\n",
    "\n",
    "df = pd.DataFrame(records)\n",
    "df.to_csv('matches_sample.csv', index=False)\n",
    "df.head()"
   ]
  },
  {
   "cell_type": "markdown",
   "id": "76341d80",
   "metadata": {},
   "source": [
    "##  4. Análisis Exploratorio de Datos (EDA)\n"
   ]
  },
  {
   "cell_type": "code",
   "execution_count": 25,
   "id": "780ba5d4",
   "metadata": {},
   "outputs": [
    {
     "data": {
      "text/html": [
       "<div>\n",
       "<style scoped>\n",
       "    .dataframe tbody tr th:only-of-type {\n",
       "        vertical-align: middle;\n",
       "    }\n",
       "\n",
       "    .dataframe tbody tr th {\n",
       "        vertical-align: top;\n",
       "    }\n",
       "\n",
       "    .dataframe thead th {\n",
       "        text-align: right;\n",
       "    }\n",
       "</style>\n",
       "<table border=\"1\" class=\"dataframe\">\n",
       "  <thead>\n",
       "    <tr style=\"text-align: right;\">\n",
       "      <th></th>\n",
       "      <th>kills</th>\n",
       "      <th>deaths</th>\n",
       "      <th>assists</th>\n",
       "      <th>goldEarned</th>\n",
       "      <th>damageDealtToChampions</th>\n",
       "    </tr>\n",
       "  </thead>\n",
       "  <tbody>\n",
       "    <tr>\n",
       "      <th>count</th>\n",
       "      <td>106.000000</td>\n",
       "      <td>106.000000</td>\n",
       "      <td>106.000000</td>\n",
       "      <td>106.000000</td>\n",
       "      <td>106.000000</td>\n",
       "    </tr>\n",
       "    <tr>\n",
       "      <th>mean</th>\n",
       "      <td>4.745283</td>\n",
       "      <td>4.745283</td>\n",
       "      <td>6.264151</td>\n",
       "      <td>9849.264151</td>\n",
       "      <td>19084.113208</td>\n",
       "    </tr>\n",
       "    <tr>\n",
       "      <th>std</th>\n",
       "      <td>3.749441</td>\n",
       "      <td>2.507366</td>\n",
       "      <td>4.878138</td>\n",
       "      <td>3329.528261</td>\n",
       "      <td>11899.649810</td>\n",
       "    </tr>\n",
       "    <tr>\n",
       "      <th>min</th>\n",
       "      <td>0.000000</td>\n",
       "      <td>0.000000</td>\n",
       "      <td>0.000000</td>\n",
       "      <td>4335.000000</td>\n",
       "      <td>4039.000000</td>\n",
       "    </tr>\n",
       "    <tr>\n",
       "      <th>25%</th>\n",
       "      <td>2.000000</td>\n",
       "      <td>3.000000</td>\n",
       "      <td>3.000000</td>\n",
       "      <td>7113.750000</td>\n",
       "      <td>9532.000000</td>\n",
       "    </tr>\n",
       "    <tr>\n",
       "      <th>50%</th>\n",
       "      <td>4.000000</td>\n",
       "      <td>5.000000</td>\n",
       "      <td>5.000000</td>\n",
       "      <td>9913.000000</td>\n",
       "      <td>16829.000000</td>\n",
       "    </tr>\n",
       "    <tr>\n",
       "      <th>75%</th>\n",
       "      <td>6.000000</td>\n",
       "      <td>6.000000</td>\n",
       "      <td>8.000000</td>\n",
       "      <td>12141.500000</td>\n",
       "      <td>26151.750000</td>\n",
       "    </tr>\n",
       "    <tr>\n",
       "      <th>max</th>\n",
       "      <td>17.000000</td>\n",
       "      <td>13.000000</td>\n",
       "      <td>24.000000</td>\n",
       "      <td>17156.000000</td>\n",
       "      <td>58912.000000</td>\n",
       "    </tr>\n",
       "  </tbody>\n",
       "</table>\n",
       "</div>"
      ],
      "text/plain": [
       "            kills      deaths     assists    goldEarned  \\\n",
       "count  106.000000  106.000000  106.000000    106.000000   \n",
       "mean     4.745283    4.745283    6.264151   9849.264151   \n",
       "std      3.749441    2.507366    4.878138   3329.528261   \n",
       "min      0.000000    0.000000    0.000000   4335.000000   \n",
       "25%      2.000000    3.000000    3.000000   7113.750000   \n",
       "50%      4.000000    5.000000    5.000000   9913.000000   \n",
       "75%      6.000000    6.000000    8.000000  12141.500000   \n",
       "max     17.000000   13.000000   24.000000  17156.000000   \n",
       "\n",
       "       damageDealtToChampions  \n",
       "count              106.000000  \n",
       "mean             19084.113208  \n",
       "std              11899.649810  \n",
       "min               4039.000000  \n",
       "25%               9532.000000  \n",
       "50%              16829.000000  \n",
       "75%              26151.750000  \n",
       "max              58912.000000  "
      ]
     },
     "execution_count": 25,
     "metadata": {},
     "output_type": "execute_result"
    }
   ],
   "source": [
    "df.describe()"
   ]
  },
  {
   "cell_type": "markdown",
   "id": "1e8620a4",
   "metadata": {},
   "source": [
    "El resumen estadístico muestra que la media de asesinatos (`kills`) es aproximadamente ..., mientras que la media de muertes (`deaths`) es ...\n"
   ]
  },
  {
   "cell_type": "code",
   "execution_count": 26,
   "id": "d44aa9da",
   "metadata": {},
   "outputs": [
    {
     "data": {
      "image/png": "[encoded data removed]",
      "text/plain": [
       "<Figure size 1000x600 with 1 Axes>"
      ]
     },
     "metadata": {},
     "output_type": "display_data"
    }
   ],
   "source": [
    "plt.figure(figsize=(10,6))\n",
    "plt.hist(df[\"kills\"], bins=15)\n",
    "plt.title(\"Distribución de Kills por Jugador\")\n",
    "plt.xlabel(\"Kills\")\n",
    "plt.ylabel(\"Frecuencia\")\n",
    "plt.show()"
   ]
  },
  {
   "cell_type": "code",
   "execution_count": 27,
   "id": "6271a675",
   "metadata": {},
   "outputs": [
    {
     "data": {
      "image/png": "[encoded data removed]",
      "text/plain": [
       "<Figure size 800x400 with 1 Axes>"
      ]
     },
     "metadata": {},
     "output_type": "display_data"
    }
   ],
   "source": [
    "winrate =df.groupby(\"championName\")[\"win\"].mean().sort_values(ascending=False).head(10)\n",
    "winrate.plot(kind='bar', figsize=(8,4), title=\"Top 10 Campeones por Winrate\")\n",
    "plt.show()"
   ]
  },
  {
   "cell_type": "markdown",
   "id": "e97a26dd",
   "metadata": {},
   "source": [
    "##  5. Conclusiones\n",
    "\n",
    "- Los datos obtenidos permitieron analizar distintas métricas del rendimiento de los jugadores.  \n",
    "- Se observó que los campeones con mayor *winrate* fueron X, Y y Z.  \n",
    "- Se evidenció una relación positiva entre el oro ganado y la cantidad de daño infligido.  \n",
    "- Como limitación, el número de partidas fue reducido debido a los **rate limits** de la API de Riot Games.\n"
   ]
  },
  {
   "cell_type": "markdown",
   "id": "07a2852f",
   "metadata": {},
   "source": [
    "##  PARTE II: APORTACIÓN INDIVIDUAL\n",
    "\n",
    "**Integrante:** Richard Gonzalez  \n",
    "\n",
    "**Aportación:**  \n",
    "- Implementé las funciones para conectarse con la API (`get_summoner_by_name`, `get_match_ids`, `get_match_detail`).  \n",
    "- Extraje y limpié los datos de las partidas obtenidas.  \n",
    "- Realicé los gráficos de análisis exploratorio (histograma y winrate por campeón).  \n",
    "\n",
    "**Relación con los objetivos del proyecto:**  \n",
    "Mi trabajo permitió generar la base de datos necesaria para el análisis y las visualizaciones, cumpliendo con los objetivos de adquisición, limpieza y análisis inicial de los datos.\n"
   ]
  }
 ],
 "metadata": {
  "kernelspec": {
   "display_name": "Python 3",
   "language": "python",
   "name": "python3"
  },
  "language_info": {
   "codemirror_mode": {
    "name": "ipython",
    "version": 3
   },
   "file_extension": ".py",
   "mimetype": "text/x-python",
   "name": "python",
   "nbconvert_exporter": "python",
   "pygments_lexer": "ipython3",
   "version": "3.13.3"
  }
 },
 "nbformat": 4,
 "nbformat_minor": 5
}
