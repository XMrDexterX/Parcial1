{
 "cells": [
  {
   "cell_type": "markdown",
   "id": "31a05657",
   "metadata": {},
   "source": [
    "# PARCIAL GRUPAL 1\n",
    "\n",
    "**Integrantes:** Ana Diaz, Richard Gonzalez, Jhon Villareal\n",
    "#  PARTE I: DESARROLLO (60 PUNTOS)\n",
    "\n",
    "---\n",
    "\n",
    "##  Instrucciones Generales\n",
    "\n",
    "Como grupo, hemos seleccionado y explorado una API para aplicar los conceptos vistos en clase.\n",
    "\n",
    "| Pregunta | Respuesta |\n",
    "| :--- | :--- |\n",
    "| **¿Qué API seleccionaron?** | Riot Games API |\n",
    "| **¿De qué trata? (Dominio/Finalidad)** | Permite obtener el historial detallado de cada jugador, enfocándose en estadísticas con campeones específicos del juego *League of Legends* (LoL). |\n",
    "| **¿Por qué la eligieron?** | Interés en el manejo de grandes volúmenes de datos y la popularidad del juego, lo que garantiza una fuente rica y relevante de información. |\n",
    "\n",
    "Aplicaremos el **ciclo de vida de un proyecto de ciencia de datos** hasta llegar a los primeros **Análisis Exploratorios de Datos (EDA)**.\n",
    "\n",
    "---\n",
    "\n"
   ]
  },
  {
   "cell_type": "markdown",
   "id": "b47ca25d",
   "metadata": {},
   "source": [
    "## 1. Definición del Problema y Objetivos\n",
    "\n",
    "**Problema:**  \n",
    "Los jugadores y analistas de *League of Legends* necesitan comprender mejor las variables que influyen en la victoria o derrota de una partida (por ejemplo: el campeón elegido, la cantidad de oro obtenido o el nivel de experiencia).\n",
    "\n",
    "**Objetivo general:**  \n",
    "Analizar datos reales del *Riot Games API* para identificar patrones de desempeño y factores clave asociados con el éxito en las partidas.\n",
    "\n",
    "**Objetivos específicos:**\n",
    "1. Conectarse correctamente con la API de Riot Games y obtener datos reales de partidas.\n",
    "2. Limpiar y transformar la información recibida.\n",
    "3. Realizar análisis exploratorios y visualizaciones estadísticas de los resultados.\n"
   ]
  },
  {
   "cell_type": "markdown",
   "id": "777a0724",
   "metadata": {},
   "source": [
    "##  2. Adquisición de Datos\n",
    "\n",
    "En esta sección se conecta la API, se obtiene información básica de jugadores y partidas, y se guarda una muestra de datos para análisis.\n"
   ]
  },
  {
   "cell_type": "markdown",
   "id": "7dd8f702",
   "metadata": {},
   "source": [
    "Celda de código: configuración e imports"
   ]
  },
  {
   "cell_type": "code",
   "execution_count": 2,
   "id": "1cea109f",
   "metadata": {},
   "outputs": [],
   "source": [
    "import os, time, json, urllib.parse, requests\n",
    "import pandas as pd\n",
    "import matplotlib.pyplot as plt\n",
    "\n",
    "#API_KEY = 'RGAPI-d78662bf-afa9-4e15-8dff-dbf67b6eef23'\n",
    "API_KEY = 'RGAPI-68920cf2-55ba-4ddb-88be-12c2657592bb'\n",
    "HEADERS = {'X-Riot-Token': API_KEY}\n",
    "\n",
    "if not API_KEY:\n",
    "    print(\"Variable de entorno RIOT_API_KEY no definida\")"
   ]
  },
  {
   "cell_type": "markdown",
   "id": "f256872f",
   "metadata": {},
   "source": [
    "Celda de código: obtener informacion de un jugador"
   ]
  },
  {
   "cell_type": "code",
   "execution_count": 3,
   "id": "c86ed000",
   "metadata": {},
   "outputs": [
    {
     "data": {
      "text/plain": [
       "{'puuid': 'gAoIuWZK_avFzrw787uNu5eHgETwzpVDjSLy0ugEGU3xNB7v7-JPo2MZIP8Cu-nACoNbM1tHYhCP3g',\n",
       " 'profileIconId': 6,\n",
       " 'revisionDate': 1759935174088,\n",
       " 'summonerLevel': 863}"
      ]
     },
     "execution_count": 3,
     "metadata": {},
     "output_type": "execute_result"
    }
   ],
   "source": [
    "def get_summoner_by_riot_id(game_name, tag_line, routing_region='asia', platform='kr'):\n",
    "    game_name_enc = urllib.parse.quote(game_name)\n",
    "    tag_line_enc = urllib.parse.quote(tag_line)\n",
    "    url = f'https://{routing_region}.api.riotgames.com/riot/account/v1/accounts/by-riot-id/{game_name_enc}/{tag_line_enc}'\n",
    "    r = requests.get(url, headers=HEADERS)\n",
    "    r.raise_for_status()\n",
    "    account_data = r.json()\n",
    "    puuid = account_data['puuid']\n",
    "    \n",
    "    url2 = f'https://{platform}.api.riotgames.com/lol/summoner/v4/summoners/by-puuid/{puuid}'\n",
    "    r2 = requests.get(url2, headers=HEADERS)\n",
    "    r2.raise_for_status()\n",
    "    return r2.json()\n",
    "\n",
    "summoner = get_summoner_by_riot_id(\"Hide on bush\", \"KR1\", routing_region='asia', platform='kr')\n",
    "summoner"
   ]
  },
  {
   "cell_type": "markdown",
   "id": "233e9a77",
   "metadata": {},
   "source": [
    "El código anterior obtiene la información básica de un jugador a partir de su nombre.  \n",
    "Riot API devuelve identificadores como `puuid` y `id`, necesarios para buscar su historial de partidas.\n"
   ]
  },
  {
   "cell_type": "code",
   "execution_count": 19,
   "id": "a4a60267",
   "metadata": {},
   "outputs": [
    {
     "data": {
      "text/plain": [
       "['KR_7858254806',\n",
       " 'KR_7858151244',\n",
       " 'KR_7858019563',\n",
       " 'KR_7857352690',\n",
       " 'KR_7856448015',\n",
       " 'KR_7856357576',\n",
       " 'KR_7856281659',\n",
       " 'KR_7856196441',\n",
       " 'KR_7855895357',\n",
       " 'KR_7855800422']"
      ]
     },
     "execution_count": 19,
     "metadata": {},
     "output_type": "execute_result"
    }
   ],
   "source": [
    "def get_summoner_by_riot_id(game_name, tag_line, routing_region='asia', platform='kr'):\n",
    "    game_name_enc = urllib.parse.quote(game_name)\n",
    "    tag_line_enc = urllib.parse.quote(tag_line)\n",
    "    url = f'https://{routing_region}.api.riotgames.com/riot/account/v1/accounts/by-riot-id/{game_name_enc}/{tag_line_enc}'\n",
    "    r = requests.get(url, headers=HEADERS)\n",
    "    r.raise_for_status()\n",
    "    account_data = r.json()\n",
    "    puuid = account_data['puuid']\n",
    "    \n",
    "    url2 = f'https://{platform}.api.riotgames.com/lol/summoner/v4/summoners/by-puuid/{puuid}'\n",
    "    r2 = requests.get(url2, headers=HEADERS)\n",
    "    r2.raise_for_status()\n",
    "    return r2.json()\n",
    "\n",
    "summoner = get_summoner_by_riot_id(\"Hide on bush\", \"KR1\", routing_region='asia', platform='kr')\n",
    "summoner\n",
    "\n",
    "def get_match_ids(puuid, count=20, region='asia'):\n",
    "    url = f'https://{region}.api.riotgames.com/lol/match/v5/matches/by-puuid/{puuid}/ids?count={count}'\n",
    "    r = requests.get(url, headers=HEADERS)\n",
    "    r.raise_for_status()\n",
    "    return r.json()\n",
    "\n",
    "match_ids = get_match_ids(summoner['puuid'], count=10, region='asia')\n",
    "match_ids"
   ]
  },
  {
   "cell_type": "markdown",
   "id": "600e18af",
   "metadata": {},
   "source": [
    "### Recolección de partidas y guardado de muestra"
   ]
  },
  {
   "cell_type": "markdown",
   "id": "de124ac3",
   "metadata": {},
   "source": [
    "Celda de código (descargar detalles)"
   ]
  },
  {
   "cell_type": "code",
   "execution_count": null,
   "id": "e0cb1b80",
   "metadata": {},
   "outputs": [],
   "source": [
    "def get_match_details(match_id, region='asia'):\n",
    "    url = f'https://{region}.api.riotgames.com/lol/match/v5/matches/{match_id}'\n",
    "    r = requests.get(url, headers=HEADERS)\n",
    "    r.raise_for_status()\n",
    "    return r.json()\n",
    "\n",
    "matches = [get_match_details(mid, region='asia') for mid in match_ids]\n",
    "\n",
    "with open('matches_sample.json', 'w') as f:\n",
    "    json.dump(matches, f, indent=2)"
   ]
  },
  {
   "cell_type": "markdown",
   "id": "7a6a0203",
   "metadata": {},
   "source": [
    "##  3. Procesamiento y Limpieza de Datos\n",
    "\n",
    "Se seleccionan las variables más relevantes de cada participante y se transforma la información en un formato tabular.\n"
   ]
  },
  {
   "cell_type": "code",
   "execution_count": 21,
   "id": "0ffa21bd",
   "metadata": {},
   "outputs": [
    {
     "name": "stdout",
     "output_type": "stream",
     "text": [
      "Winrate de 'Hide on Bush': 70.0%\n"
     ]
    }
   ],
   "source": [
    "records = []\n",
    "\n",
    "for match_id in match_ids:\n",
    "    match = get_match_details(match_id, region='asia')\n",
    "    info = match['info']\n",
    "\n",
    "    for p in info['participants']:\n",
    "        records.append({\n",
    "            \"matchId\": match['metadata']['matchId'],\n",
    "            \"puuid\": p['puuid'],  # 🔹 usa esto para mapear luego\n",
    "            \"summonerName\": p.get('summonerName', None),\n",
    "            \"championName\": p['championName'],\n",
    "            \"kills\": p['kills'],\n",
    "            \"deaths\": p['deaths'],\n",
    "            \"assists\": p['assists'],\n",
    "            \"win\": p['win'],\n",
    "            \"goldEarned\": p['goldEarned'],\n",
    "            \"damageDealtToChampions\": p['totalDamageDealtToChampions']\n",
    "        })\n",
    "\n",
    "\n",
    "df = pd.DataFrame(records)\n",
    "df.to_csv('matches_sample.csv', index=False)\n",
    "df.head()\n",
    "\n",
    "def get_player_winrate(puuid, match_ids, region='asia'):\n",
    "    wins = 0\n",
    "    total = 0\n",
    "    \n",
    "    for match_id in match_ids:\n",
    "        match = get_match_details(match_id, region)\n",
    "        info = match['info']\n",
    "        \n",
    "        # Buscar el participante con ese puuid\n",
    "        for p in info['participants']:\n",
    "            if p['puuid'] == puuid:\n",
    "                total += 1\n",
    "                if p['win']:\n",
    "                    wins += 1\n",
    "                break  # No seguir revisando los demás\n",
    "    if total == 0:\n",
    "        return 0\n",
    "    return round((wins / total) * 100, 2)\n",
    "\n",
    "puuid = summoner['puuid']\n",
    "winrate = get_player_winrate(puuid, match_ids, region='asia')\n",
    "print(f\"Winrate de 'Hide on Bush': {winrate}%\")\n"
   ]
  },
  {
   "cell_type": "markdown",
   "id": "f0cb08c8",
   "metadata": {},
   "source": [
    "Se oberva que la columna summonerName está vacía, así que podemos eliminarla"
   ]
  },
  {
   "cell_type": "code",
   "execution_count": 22,
   "id": "732f83ff",
   "metadata": {},
   "outputs": [
    {
     "data": {
      "text/html": [
       "<div>\n",
       "<style scoped>\n",
       "    .dataframe tbody tr th:only-of-type {\n",
       "        vertical-align: middle;\n",
       "    }\n",
       "\n",
       "    .dataframe tbody tr th {\n",
       "        vertical-align: top;\n",
       "    }\n",
       "\n",
       "    .dataframe thead th {\n",
       "        text-align: right;\n",
       "    }\n",
       "</style>\n",
       "<table border=\"1\" class=\"dataframe\">\n",
       "  <thead>\n",
       "    <tr style=\"text-align: right;\">\n",
       "      <th></th>\n",
       "      <th>matchId</th>\n",
       "      <th>puuid</th>\n",
       "      <th>championName</th>\n",
       "      <th>kills</th>\n",
       "      <th>deaths</th>\n",
       "      <th>assists</th>\n",
       "      <th>win</th>\n",
       "      <th>goldEarned</th>\n",
       "      <th>damageDealtToChampions</th>\n",
       "    </tr>\n",
       "  </thead>\n",
       "  <tbody>\n",
       "    <tr>\n",
       "      <th>0</th>\n",
       "      <td>KR_7858254806</td>\n",
       "      <td>jpiDJavWdAN1kmcTPtJVLIIA1igPREqnCMDyiQaVA0oji1...</td>\n",
       "      <td>RekSai</td>\n",
       "      <td>5</td>\n",
       "      <td>3</td>\n",
       "      <td>0</td>\n",
       "      <td>True</td>\n",
       "      <td>9521</td>\n",
       "      <td>17869</td>\n",
       "    </tr>\n",
       "    <tr>\n",
       "      <th>1</th>\n",
       "      <td>KR_7858254806</td>\n",
       "      <td>QEk_dSdiRP5HPIfG4RkFJyTOMc62wI1ngIqa8RWy0PYvnq...</td>\n",
       "      <td>LeeSin</td>\n",
       "      <td>7</td>\n",
       "      <td>2</td>\n",
       "      <td>9</td>\n",
       "      <td>True</td>\n",
       "      <td>10084</td>\n",
       "      <td>13383</td>\n",
       "    </tr>\n",
       "    <tr>\n",
       "      <th>2</th>\n",
       "      <td>KR_7858254806</td>\n",
       "      <td>gAoIuWZK_avFzrw787uNu5eHgETwzpVDjSLy0ugEGU3xNB...</td>\n",
       "      <td>Jayce</td>\n",
       "      <td>6</td>\n",
       "      <td>4</td>\n",
       "      <td>7</td>\n",
       "      <td>True</td>\n",
       "      <td>9400</td>\n",
       "      <td>17487</td>\n",
       "    </tr>\n",
       "    <tr>\n",
       "      <th>3</th>\n",
       "      <td>KR_7858254806</td>\n",
       "      <td>WIp8dJwR4mrytf7lEoX4YVUfNarD4e3eyLAuaD9n39xz2U...</td>\n",
       "      <td>Ziggs</td>\n",
       "      <td>4</td>\n",
       "      <td>3</td>\n",
       "      <td>8</td>\n",
       "      <td>True</td>\n",
       "      <td>10385</td>\n",
       "      <td>18399</td>\n",
       "    </tr>\n",
       "    <tr>\n",
       "      <th>4</th>\n",
       "      <td>KR_7858254806</td>\n",
       "      <td>9GcFpOYM1GI-ZY2Egcjs5bxdwZOUkDThcKRepW_wrS1U3k...</td>\n",
       "      <td>Pyke</td>\n",
       "      <td>2</td>\n",
       "      <td>5</td>\n",
       "      <td>11</td>\n",
       "      <td>True</td>\n",
       "      <td>6761</td>\n",
       "      <td>9376</td>\n",
       "    </tr>\n",
       "  </tbody>\n",
       "</table>\n",
       "</div>"
      ],
      "text/plain": [
       "         matchId                                              puuid  \\\n",
       "0  KR_7858254806  jpiDJavWdAN1kmcTPtJVLIIA1igPREqnCMDyiQaVA0oji1...   \n",
       "1  KR_7858254806  QEk_dSdiRP5HPIfG4RkFJyTOMc62wI1ngIqa8RWy0PYvnq...   \n",
       "2  KR_7858254806  gAoIuWZK_avFzrw787uNu5eHgETwzpVDjSLy0ugEGU3xNB...   \n",
       "3  KR_7858254806  WIp8dJwR4mrytf7lEoX4YVUfNarD4e3eyLAuaD9n39xz2U...   \n",
       "4  KR_7858254806  9GcFpOYM1GI-ZY2Egcjs5bxdwZOUkDThcKRepW_wrS1U3k...   \n",
       "\n",
       "  championName  kills  deaths  assists   win  goldEarned  \\\n",
       "0       RekSai      5       3        0  True        9521   \n",
       "1       LeeSin      7       2        9  True       10084   \n",
       "2        Jayce      6       4        7  True        9400   \n",
       "3        Ziggs      4       3        8  True       10385   \n",
       "4         Pyke      2       5       11  True        6761   \n",
       "\n",
       "   damageDealtToChampions  \n",
       "0                   17869  \n",
       "1                   13383  \n",
       "2                   17487  \n",
       "3                   18399  \n",
       "4                    9376  "
      ]
     },
     "execution_count": 22,
     "metadata": {},
     "output_type": "execute_result"
    }
   ],
   "source": [
    "df = df.drop(columns=['summonerName'])\n",
    "df.head()"
   ]
  },
  {
   "cell_type": "markdown",
   "id": "76341d80",
   "metadata": {},
   "source": [
    "##  4. Análisis Exploratorio de Datos (EDA)\n"
   ]
  },
  {
   "cell_type": "markdown",
   "id": "952f649f",
   "metadata": {},
   "source": [
    "### Descripción de las variables del DataFrame\n",
    "| **Variable**             | **Tipo de dato** | **Descripción**                                                                                                                                                               |\n",
    "| ------------------------ | ---------------- | ----------------------------------------------------------------------------------------------------------------------------------------------------------------------------- |\n",
    "| `matchId`                | `string`         | Identificador único de la partida. Este ID permite acceder a la información completa del juego y se repite para los 10 jugadores que participaron en la misma partida.        |\n",
    "| `championName`           | `string`         | Nombre del campeón seleccionado por el jugador durante la partida (por ejemplo: *Ahri*, *Yasuo*, *Lee Sin*).                                                                  |\n",
    "| `kills`                  | `int`            | Número total de enemigos eliminados por el jugador. Representa su capacidad ofensiva.                                                                                         |\n",
    "| `deaths`                 | `int`            | Número de veces que el jugador murió durante la partida. Indica su vulnerabilidad o exposición al riesgo.                                                                     |\n",
    "| `assists`                | `int`            | Cantidad de eliminaciones en las que el jugador participó asistiendo a un aliado. Refleja cooperación y trabajo en equipo.                                                    |\n",
    "| `win`                    | `bool`           | Valor booleano que indica si el jugador ganó (`True`) o perdió (`False`) la partida. Puede considerarse como la **variable dependiente (objetivo)** en análisis de desempeño. |\n",
    "| `goldEarned`             | `int`            | Total de oro acumulado por el jugador, proveniente de súbditos, campeones enemigos, estructuras u objetivos. Mide la cantidad de recursos obtenidos.                          |\n",
    "| `damageDealtToChampions` | `int`            | Daño total infligido por el jugador a otros campeones enemigos durante la partida. Es un indicador de impacto ofensivo.                                                       |\n"
   ]
  },
  {
   "cell_type": "markdown",
   "id": "fa0302f6",
   "metadata": {},
   "source": [
    "### Estadísticas Descriptivas:"
   ]
  },
  {
   "cell_type": "code",
   "execution_count": 23,
   "id": "780ba5d4",
   "metadata": {},
   "outputs": [
    {
     "data": {
      "text/html": [
       "<div>\n",
       "<style scoped>\n",
       "    .dataframe tbody tr th:only-of-type {\n",
       "        vertical-align: middle;\n",
       "    }\n",
       "\n",
       "    .dataframe tbody tr th {\n",
       "        vertical-align: top;\n",
       "    }\n",
       "\n",
       "    .dataframe thead th {\n",
       "        text-align: right;\n",
       "    }\n",
       "</style>\n",
       "<table border=\"1\" class=\"dataframe\">\n",
       "  <thead>\n",
       "    <tr style=\"text-align: right;\">\n",
       "      <th></th>\n",
       "      <th>kills</th>\n",
       "      <th>deaths</th>\n",
       "      <th>assists</th>\n",
       "      <th>goldEarned</th>\n",
       "      <th>damageDealtToChampions</th>\n",
       "    </tr>\n",
       "  </thead>\n",
       "  <tbody>\n",
       "    <tr>\n",
       "      <th>count</th>\n",
       "      <td>112.000000</td>\n",
       "      <td>112.000000</td>\n",
       "      <td>112.000000</td>\n",
       "      <td>112.000000</td>\n",
       "      <td>112.000000</td>\n",
       "    </tr>\n",
       "    <tr>\n",
       "      <th>mean</th>\n",
       "      <td>5.410714</td>\n",
       "      <td>5.419643</td>\n",
       "      <td>7.035714</td>\n",
       "      <td>10882.258929</td>\n",
       "      <td>23212.705357</td>\n",
       "    </tr>\n",
       "    <tr>\n",
       "      <th>std</th>\n",
       "      <td>3.814514</td>\n",
       "      <td>2.598123</td>\n",
       "      <td>4.891487</td>\n",
       "      <td>3258.096158</td>\n",
       "      <td>13572.795295</td>\n",
       "    </tr>\n",
       "    <tr>\n",
       "      <th>min</th>\n",
       "      <td>0.000000</td>\n",
       "      <td>0.000000</td>\n",
       "      <td>0.000000</td>\n",
       "      <td>4335.000000</td>\n",
       "      <td>4039.000000</td>\n",
       "    </tr>\n",
       "    <tr>\n",
       "      <th>25%</th>\n",
       "      <td>3.000000</td>\n",
       "      <td>3.750000</td>\n",
       "      <td>3.000000</td>\n",
       "      <td>8611.750000</td>\n",
       "      <td>13929.750000</td>\n",
       "    </tr>\n",
       "    <tr>\n",
       "      <th>50%</th>\n",
       "      <td>5.000000</td>\n",
       "      <td>5.500000</td>\n",
       "      <td>6.000000</td>\n",
       "      <td>10826.000000</td>\n",
       "      <td>19716.000000</td>\n",
       "    </tr>\n",
       "    <tr>\n",
       "      <th>75%</th>\n",
       "      <td>7.000000</td>\n",
       "      <td>7.000000</td>\n",
       "      <td>10.000000</td>\n",
       "      <td>13114.250000</td>\n",
       "      <td>29325.000000</td>\n",
       "    </tr>\n",
       "    <tr>\n",
       "      <th>max</th>\n",
       "      <td>17.000000</td>\n",
       "      <td>13.000000</td>\n",
       "      <td>24.000000</td>\n",
       "      <td>20900.000000</td>\n",
       "      <td>80068.000000</td>\n",
       "    </tr>\n",
       "  </tbody>\n",
       "</table>\n",
       "</div>"
      ],
      "text/plain": [
       "            kills      deaths     assists    goldEarned  \\\n",
       "count  112.000000  112.000000  112.000000    112.000000   \n",
       "mean     5.410714    5.419643    7.035714  10882.258929   \n",
       "std      3.814514    2.598123    4.891487   3258.096158   \n",
       "min      0.000000    0.000000    0.000000   4335.000000   \n",
       "25%      3.000000    3.750000    3.000000   8611.750000   \n",
       "50%      5.000000    5.500000    6.000000  10826.000000   \n",
       "75%      7.000000    7.000000   10.000000  13114.250000   \n",
       "max     17.000000   13.000000   24.000000  20900.000000   \n",
       "\n",
       "       damageDealtToChampions  \n",
       "count              112.000000  \n",
       "mean             23212.705357  \n",
       "std              13572.795295  \n",
       "min               4039.000000  \n",
       "25%              13929.750000  \n",
       "50%              19716.000000  \n",
       "75%              29325.000000  \n",
       "max              80068.000000  "
      ]
     },
     "execution_count": 23,
     "metadata": {},
     "output_type": "execute_result"
    }
   ],
   "source": [
    "df.describe()"
   ]
  },
  {
   "cell_type": "markdown",
   "id": "d11de21a",
   "metadata": {},
   "source": [
    "#### Variables Categóricas:\n",
    "El data frame contiene dos variables categóricas: \n",
    "1. championName\n",
    "2. win\n",
    "\n",
    "Calcular frecuencia de la variable championName:"
   ]
  },
  {
   "cell_type": "code",
   "execution_count": 27,
   "id": "4f76367e",
   "metadata": {},
   "outputs": [
    {
     "name": "stdout",
     "output_type": "stream",
     "text": [
      "Campeones jugados por 'Hide on Bush':\n",
      "['Jayce', 'Lissandra', 'Leblanc', 'Taliyah', 'Azir', 'Azir', 'Aurora', 'Yone', 'Darius', 'Jayce']\n"
     ]
    }
   ],
   "source": [
    "df['championName'].value_counts()\n",
    "def get_champions_played(puuid, match_ids, region='asia'):\n",
    "    champions = []\n",
    "\n",
    "    for match_id in match_ids:\n",
    "        match = get_match_details(match_id, region)\n",
    "        info = match['info']\n",
    "\n",
    "        # Buscar al jugador dentro de los participantes\n",
    "        for p in info['participants']:\n",
    "            if p['puuid'] == puuid:\n",
    "                champions.append(p['championName'])\n",
    "                break  # salimos del bucle una vez encontrado el jugador\n",
    "\n",
    "    return champions\n",
    "\n",
    "puuid = summoner['puuid']\n",
    "champions = get_champions_played(puuid, match_ids, region='asia')\n",
    "\n",
    "print(f\"Campeones jugados por 'Hide on Bush':\")\n",
    "print(champions)\n"
   ]
  },
  {
   "cell_type": "markdown",
   "id": "d5d88f00",
   "metadata": {},
   "source": [
    "Frecuencia de la variable win:"
   ]
  },
  {
   "cell_type": "code",
   "execution_count": 37,
   "id": "d44aa9da",
   "metadata": {},
   "outputs": [
    {
     "name": "stdout",
     "output_type": "stream",
     "text": [
      "  championName  gamesPlayed  wins  winrate\n",
      "0        Jayce            2     2    100.0\n",
      "1         Azir            2     2    100.0\n",
      "2    Lissandra            1     1    100.0\n",
      "3      Leblanc            1     0      0.0\n",
      "4      Taliyah            1     0      0.0\n",
      "5       Aurora            1     0      0.0\n",
      "6         Yone            1     1    100.0\n",
      "7       Darius            1     1    100.0\n"
     ]
    }
   ],
   "source": [
    "from collections import defaultdict\n",
    "\n",
    "def get_winrate_by_champion(puuid, match_ids, region='asia'):\n",
    "    stats = defaultdict(lambda: {\"wins\": 0, \"total\": 0})\n",
    "\n",
    "    for match_id in match_ids:\n",
    "        match = get_match_details(match_id, region)\n",
    "        info = match['info']\n",
    "\n",
    "        # Buscar al jugador\n",
    "        for p in info['participants']:\n",
    "            if p['puuid'] == puuid:\n",
    "                champ = p['championName']\n",
    "                stats[champ][\"total\"] += 1\n",
    "                if p['win']:\n",
    "                    stats[champ][\"wins\"] += 1\n",
    "                break\n",
    "\n",
    "    # Calcular winrate\n",
    "    results = []\n",
    "    for champ, s in stats.items():\n",
    "        winrate = round((s[\"wins\"] / s[\"total\"]) * 100, 2)\n",
    "        results.append({\n",
    "            \"championName\": champ,\n",
    "            \"gamesPlayed\": s[\"total\"],\n",
    "            \"wins\": s[\"wins\"],\n",
    "            \"winrate\": winrate\n",
    "        })\n",
    "\n",
    "    # Ordenar por número de partidas jugadas\n",
    "    results.sort(key=lambda x: x[\"gamesPlayed\"], reverse=True)\n",
    "    return results\n",
    "puuid = summoner['puuid']\n",
    "champion_stats = get_winrate_by_champion(puuid, match_ids, region='asia')\n",
    "\n",
    "import pandas as pd\n",
    "df_champs = pd.DataFrame(champion_stats)\n",
    "print(df_champs)\n",
    "\n"
   ]
  },
  {
   "cell_type": "markdown",
   "id": "b5ec9cc5",
   "metadata": {},
   "source": [
    "##  5. Análisis Básico con Visualizaciones\n",
    "\n",
    "\n",
    "**Top 10 campeones por winrate** Esta tabla de frecuencia nos muestra los campeones que han obtenido más victorias"
   ]
  },
  {
   "cell_type": "code",
   "execution_count": 38,
   "id": "558e8102",
   "metadata": {},
   "outputs": [
    {
     "data": {
      "image/png": "[encoded data removed]",
      "text/plain": [
       "<Figure size 1000x600 with 1 Axes>"
      ]
     },
     "metadata": {},
     "output_type": "display_data"
    }
   ],
   "source": [
    "df_champs = df_champs.sort_values(by='winrate', ascending=False)\n",
    "\n",
    "# 🎨 Crear la gráfica de barras con pandas y matplotlib\n",
    "ax = df_champs.plot(\n",
    "    kind='bar',\n",
    "    x='championName',\n",
    "    y='winrate',\n",
    "    color='skyblue',\n",
    "    legend=False,\n",
    "    figsize=(10, 6),\n",
    "    edgecolor='black'\n",
    ")\n",
    "\n",
    "# 🏷️ Personalizar el gráfico\n",
    "plt.title(\"Winrate por Campeón - Faker (Hide on bush)\", fontsize=14, fontweight='bold')\n",
    "plt.xlabel(\"Campeón\", fontsize=12)\n",
    "plt.ylabel(\"Winrate (%)\", fontsize=12)\n",
    "plt.ylim(0, 110)\n",
    "\n",
    "# 🧩 Mostrar porcentaje encima de cada barra\n",
    "for p in ax.patches:\n",
    "    ax.annotate(\n",
    "        f\"{p.get_height():.1f}%\",\n",
    "        (p.get_x() + p.get_width() / 2, p.get_height() + 2),\n",
    "        ha='center',\n",
    "        fontsize=10\n",
    "    )\n",
    "\n",
    "# 🧠 Ajustar diseño y mostrar\n",
    "plt.tight_layout()\n",
    "plt.show()"
   ]
  },
  {
   "cell_type": "markdown",
   "id": "31fd85b7",
   "metadata": {},
   "source": [
    "**Top 10 campeones más jugados:** Esta tabla de frecuencia nos muestra los campeones más populares entre los jugadores"
   ]
  },
  {
   "cell_type": "code",
   "execution_count": 25,
   "id": "6271a675",
   "metadata": {},
   "outputs": [
    {
     "data": {
      "image/png": "[encoded data removed]",
      "text/plain": [
       "<Figure size 640x480 with 1 Axes>"
      ]
     },
     "metadata": {},
     "output_type": "display_data"
    }
   ],
   "source": [
    "df['championName'].value_counts().head(10).plot(kind='bar')\n",
    "plt.title(\"Top 10 Campeones más Jugados\")\n",
    "plt.xlabel(\"Campeón\")\n",
    "plt.ylabel(\"Frecuencia\")\n",
    "plt.show()"
   ]
  },
  {
   "cell_type": "markdown",
   "id": "e76bcdaf",
   "metadata": {},
   "source": [
    "- **Análisis del gráfico**: Se muestra un favoritismo hacia los campeones LeeSin y Kaisa"
   ]
  },
  {
   "cell_type": "markdown",
   "id": "8f639c40",
   "metadata": {},
   "source": [
    "**Histograma de kills por jugador:** Muestra cuántos jugadores han hecho una cantidad determinada de kills"
   ]
  },
  {
   "cell_type": "code",
   "execution_count": 26,
   "id": "8fa4b1f0",
   "metadata": {},
   "outputs": [
    {
     "data": {
      "image/png": "[encoded data removed]",
      "text/plain": [
       "<Figure size 640x480 with 1 Axes>"
      ]
     },
     "metadata": {},
     "output_type": "display_data"
    }
   ],
   "source": [
    "df[['kills']].hist(bins=20)\n",
    "plt.suptitle(\"Histograma de kills por jugador\")\n",
    "plt.show()\n"
   ]
  },
  {
   "cell_type": "markdown",
   "id": "b06b0ea1",
   "metadata": {},
   "source": [
    "- **Análisis del Gráfico:** La mayoría de los jugadores hace de 2.5 a 5 kills por partida. Se muestra una caída en las kills después de las 7.5 kills."
   ]
  },
  {
   "cell_type": "markdown",
   "id": "365a88e9",
   "metadata": {},
   "source": [
    "**Relación entre kills y el dinero obtenido:** Muestra la correlación entre las kills y el dinero obtenido en una partida"
   ]
  },
  {
   "cell_type": "code",
   "execution_count": 27,
   "id": "9fee71de",
   "metadata": {},
   "outputs": [
    {
     "data": {
      "image/png": "[encoded data removed]",
      "text/plain": [
       "<Figure size 800x500 with 1 Axes>"
      ]
     },
     "metadata": {},
     "output_type": "display_data"
    }
   ],
   "source": [
    "plt.figure(figsize=(8,5))\n",
    "plt.scatter(df['kills'], df['goldEarned'], alpha=0.6)\n",
    "plt.xlabel(\"Kills\")\n",
    "plt.ylabel(\"Gold Earned\")\n",
    "plt.title(\"Relación entre Kills y Gold Earned\")\n",
    "plt.show()\n"
   ]
  },
  {
   "cell_type": "markdown",
   "id": "e745d3c8",
   "metadata": {},
   "source": [
    "- **Análisis del gráfico:** se observa una correlación positiva entre las kills y el dinero ganado"
   ]
  },
  {
   "cell_type": "markdown",
   "id": "36390074",
   "metadata": {},
   "source": [
    "**Relación entre el daño recibido y el oro ganado:** Muestrá cómo es la relación entre el daño inflingido vs el dinero ganado:"
   ]
  },
  {
   "cell_type": "code",
   "execution_count": 28,
   "id": "1964e558",
   "metadata": {},
   "outputs": [
    {
     "data": {
      "image/png": "[encoded data removed]",
      "text/plain": [
       "<Figure size 800x500 with 1 Axes>"
      ]
     },
     "metadata": {},
     "output_type": "display_data"
    }
   ],
   "source": [
    "plt.figure(figsize=(8,5))\n",
    "plt.scatter(df['damageDealtToChampions'], df['goldEarned'], alpha=0.6)\n",
    "plt.xlabel(\"damageDealtToChampions\")\n",
    "plt.ylabel(\"Gold Earned\")\n",
    "plt.title(\"Relación entre damageDealtToChampions y Gold Earned\")\n",
    "plt.show()\n"
   ]
  },
  {
   "cell_type": "markdown",
   "id": "608c0a82",
   "metadata": {},
   "source": [
    "- **Análisis del gráfico:** se observa una correlación positiva entre las damageDealtToChampions y el dinero ganado"
   ]
  },
  {
   "cell_type": "markdown",
   "id": "e97a26dd",
   "metadata": {},
   "source": [
    "##  6. Conclusiones\n",
    "\n",
    "- Los datos obtenidos permitieron analizar distintas métricas del rendimiento de los jugadores.  \n",
    "- Se observó que los campeones con mayor *winrate* fueron X, Y y Z.  \n",
    "- Se evidenció una relación positiva entre el oro ganado y la cantidad de daño infligido.  \n",
    "- Como limitación, el número de partidas fue reducido debido a los **rate limits** de la API de Riot Games.\n"
   ]
  },
  {
   "cell_type": "markdown",
   "id": "07a2852f",
   "metadata": {},
   "source": [
    "##  PARTE II: APORTACIÓN INDIVIDUAL\n",
    "\n",
    "**Integrante:** Richard Gonzalez  \n",
    "\n",
    "**Aportación:**  \n",
    "- Implementé las funciones para conectarse con la API (`get_summoner_by_name`, `get_match_ids`, `get_match_detail`).  \n",
    "- Realicé gráficos de análisis exploratorio (winrate por campeón).  \n",
    "\n",
    "**Relación con los objetivos del proyecto:**  \n",
    "Mi trabajo permitió generar la base de datos necesaria para el análisis y las visualizaciones, cumpliendo con los objetivos de adquisición, limpieza y análisis inicial de los datos.\n",
    "\n",
    "**Integrante:** Ana Díaz \n",
    "\n",
    "**Aportación:**  \n",
    "- Eliminación de columnas vacías\n",
    "- Descripción de las variables obtenidas\n",
    "- Frecuencia de variables categóricas y análisis visual.  \n",
    "\n",
    "**Relación con los objetivos del proyecto:**  \n",
    "Ajusté el data frame para tener información relevante y realicé ciertos análisis de los datos obtenidos.\n",
    "\n",
    "**Integrante:** Jhon Villarreal\n",
    "\n",
    "**Aportación:**  \n",
    "- Extraje y limpié los datos de las partidas obtenidas.  \n",
    "- Realicé gráficos de análisis exploratorio (winrate por campeón).  \n"
   ]
  }
 ],
 "metadata": {
  "kernelspec": {
   "display_name": "Python 3",
   "language": "python",
   "name": "python3"
  },
  "language_info": {
   "codemirror_mode": {
    "name": "ipython",
    "version": 3
   },
   "file_extension": ".py",
   "mimetype": "text/x-python",
   "name": "python",
   "nbconvert_exporter": "python",
   "pygments_lexer": "ipython3",
   "version": "3.13.3"
  }
 },
 "nbformat": 4,
 "nbformat_minor": 5
}
